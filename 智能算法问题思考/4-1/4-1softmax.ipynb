{
 "cells": [
  {
   "cell_type": "code",
   "execution_count": 1,
   "metadata": {
    "collapsed": false
   },
   "outputs": [],
   "source": [
    "# 同时添加如下代码, 这样每次环境(kernel)启动的时候只要运行下方代码即可:\r\n",
    "# Also add the following code, so that every time the environment (kernel) starts, just run the following code:\r\n",
    "import sys\r\n",
    "sys.path.append('/home/aistudio/external-libraries')"
   ]
  },
  {
   "cell_type": "markdown",
   "metadata": {
    "collapsed": false
   },
   "source": [
    "### 导入库"
   ]
  },
  {
   "cell_type": "code",
   "execution_count": 2,
   "metadata": {
    "collapsed": false
   },
   "outputs": [
    {
     "name": "stderr",
     "output_type": "stream",
     "text": [
      "2023-01-08 15:03:48,163-INFO: font search path ['/opt/conda/envs/python35-paddle120-env/lib/python3.7/site-packages/matplotlib/mpl-data/fonts/ttf', '/opt/conda/envs/python35-paddle120-env/lib/python3.7/site-packages/matplotlib/mpl-data/fonts/afm', '/opt/conda/envs/python35-paddle120-env/lib/python3.7/site-packages/matplotlib/mpl-data/fonts/pdfcorefonts']\n",
      "2023-01-08 15:03:48,633-INFO: generated new fontManager\n"
     ]
    }
   ],
   "source": [
    "#导入需要的包\n",
    "import numpy as np\n",
    "import paddle as paddle\n",
    "import paddle.fluid as fluid\n",
    "from PIL import Image\n",
    "import matplotlib.pyplot as plt\n",
    "import os"
   ]
  },
  {
   "cell_type": "code",
   "execution_count": 3,
   "metadata": {
    "collapsed": false
   },
   "outputs": [
    {
     "name": "stderr",
     "output_type": "stream",
     "text": [
      "Cache file /home/aistudio/.cache/paddle/dataset/mnist/train-images-idx3-ubyte.gz not found, downloading https://dataset.bj.bcebos.com/mnist/train-images-idx3-ubyte.gz \n",
      "Begin to download\n",
      "\n",
      "Download finished\n",
      "Cache file /home/aistudio/.cache/paddle/dataset/mnist/train-labels-idx1-ubyte.gz not found, downloading https://dataset.bj.bcebos.com/mnist/train-labels-idx1-ubyte.gz \n",
      "Begin to download\n",
      "........\n",
      "Download finished\n",
      "Cache file /home/aistudio/.cache/paddle/dataset/mnist/t10k-images-idx3-ubyte.gz not found, downloading https://dataset.bj.bcebos.com/mnist/t10k-images-idx3-ubyte.gz \n",
      "Begin to download\n",
      "\n",
      "Download finished\n",
      "Cache file /home/aistudio/.cache/paddle/dataset/mnist/t10k-labels-idx1-ubyte.gz not found, downloading https://dataset.bj.bcebos.com/mnist/t10k-labels-idx1-ubyte.gz \n",
      "Begin to download\n",
      "..\n",
      "Download finished\n"
     ]
    }
   ],
   "source": [
    "TRAIN_BUF_SIZE=51200\n",
    "TRAIN_BATCH_SIZE=51200\n",
    "TEST_BUF_SIZE=12800\n",
    "TEST_BATCH_SIZE=12800\n",
    "#用于训练的数据提供器，每次从缓存中随机读取批次大小的数据\n",
    "train_reader = paddle.batch(\n",
    "    paddle.reader.shuffle(paddle.dataset.mnist.train(),\n",
    "                          buf_size=TRAIN_BUF_SIZE),\n",
    "    batch_size=TRAIN_BATCH_SIZE)\n",
    "#用于训练的数据提供器，每次从缓存中随机读取批次大小的数据\n",
    "test_reader = paddle.batch(\n",
    "    paddle.reader.shuffle(paddle.dataset.mnist.test(),\n",
    "                          buf_size=TEST_BUF_SIZE),\n",
    "    batch_size=TEST_BATCH_SIZE)\n",
    "\n",
    "train_iterator = next(train_reader())\n",
    "test_iterator = next(test_reader())\n",
    "\n",
    "# 将数据转为numpy Array\n",
    "train_data = np.array([data[0] for data in train_iterator]).astype(\"float32\")\n",
    "test_data = np.array([data[0] for data in test_iterator]).astype(\"float32\")\n",
    "\n",
    "train_label = np.array([data[1] for data in train_iterator]).astype(\"float32\")\n",
    "test_label = np.array([data[1] for data in test_iterator]).astype(\"float32\")\n",
    "\n",
    "# print(train_data.shape)\n",
    "# 将白底黑字转化为黑底白字拼接在原矩阵下\n",
    "train_data = np.vstack((train_data, -train_data))\n",
    "test_data = np.vstack((test_data, -test_data))\n",
    "\n",
    "# 构造新label训练集和测试集\n",
    "train_label = np.vstack((train_label.reshape(-1, 1), train_label.reshape(-1, 1)))\n",
    "test_label = np.vstack((test_label.reshape(-1, 1), test_label.reshape(-1, 1)))\n",
    "\n",
    "# print(train_data.shape)\n",
    "\n",
    "\n",
    "train_index = [i for i in range(len(train_data))]\n",
    "# print(train_index)\n",
    "np.random.shuffle(train_index)  # 打乱索引\n",
    "train_data = train_data[train_index]\n",
    "train_label = train_label[train_index]\n",
    "\n",
    "test_index = [i for i in range(len(test_data))]\n",
    "np.random.shuffle(test_index)  # 打乱索引\n",
    "test_data = test_data[test_index]\n",
    "test_label = test_label[test_index]\n",
    "\n",
    "\n",
    "\n",
    "\n",
    "# print(train_data.shape)\n",
    "# print(type(train_data))\n",
    "#用于打印，查看mnist数据\n",
    "# train_data=paddle.dataset.mnist.train();\n",
    "# sampledata=next(train_data())\n",
    " \n"
   ]
  },
  {
   "cell_type": "markdown",
   "metadata": {
    "collapsed": false
   },
   "source": [
    "定义reader生成函数"
   ]
  },
  {
   "cell_type": "code",
   "execution_count": 4,
   "metadata": {
    "collapsed": false
   },
   "outputs": [],
   "source": [
    "def readerGenerator(data, label):\n",
    "    def reader():\n",
    "        for i in  range(len(data)):\n",
    "            yield data[i], int(label[i])\n",
    "    return reader"
   ]
  },
  {
   "cell_type": "markdown",
   "metadata": {
    "collapsed": false
   },
   "source": [
    "创建train_reader和test_reader"
   ]
  },
  {
   "cell_type": "code",
   "execution_count": 5,
   "metadata": {
    "collapsed": false
   },
   "outputs": [],
   "source": [
    "train_reader = paddle.batch(paddle.reader.shuffle(\n",
    "    reader=readerGenerator(train_data, train_label),buf_size=512),\n",
    "                    batch_size=128)\n",
    "\n",
    "test_reader = paddle.batch(paddle.reader.shuffle(\n",
    "    reader=readerGenerator(test_data, test_label),buf_size=512),\n",
    "                          batch_size=128)"
   ]
  },
  {
   "cell_type": "code",
   "execution_count": 6,
   "metadata": {
    "collapsed": false
   },
   "outputs": [],
   "source": [
    "# 定义多层感知器 \n",
    "def multilayer_perceptron(input): \n",
    "    # 第一个全连接层，激活函数为ReLU \n",
    "    hidden1 = fluid.layers.fc(input=input, size=200, act='relu') \n",
    "    # 第二个全连接层，激活函数为ReLU \n",
    "    hidden2 = fluid.layers.fc(input=hidden1, size=200, act='relu') \n",
    "    # 以softmax为激活函数的全连接输出层，输出层的大小必须为数字的个数10 \n",
    "    prediction = fluid.layers.fc(input=hidden2, size=10, act='softmax') \n",
    "    return prediction "
   ]
  },
  {
   "cell_type": "code",
   "execution_count": 7,
   "metadata": {
    "collapsed": false
   },
   "outputs": [],
   "source": [
    "def multilayer_perceptron(input):\n",
    "    conv_pool_1 = fluid.nets.simple_img_conv_pool(\n",
    "        input=input,\n",
    "        filter_size=5,\n",
    "        num_filters=20,\n",
    "        pool_size=2,\n",
    "        pool_stride=2,\n",
    "        act=\"relu\")\n",
    "    conv_pool_1 = fluid.layers.batch_norm(conv_pool_1)\n",
    "    # 第二个卷积-池化层\n",
    "    # 使用50个5*5的滤波器，池化大小为2，池化步长为2，激活函数为Relu\n",
    "    conv_pool_2 = fluid.nets.simple_img_conv_pool(\n",
    "        input=conv_pool_1,\n",
    "        filter_size=5,\n",
    "        num_filters=50,\n",
    "        pool_size=2,\n",
    "        pool_stride=2,\n",
    "        act=\"relu\")\n",
    "    # 以softmax为激活函数的全连接输出层，输出层的大小必须为数字的个数10\n",
    "    prediction = fluid.layers.fc(input=conv_pool_2, size=10, act='softmax')\n",
    "    return prediction"
   ]
  },
  {
   "cell_type": "code",
   "execution_count": 8,
   "metadata": {
    "collapsed": false
   },
   "outputs": [],
   "source": [
    "# 输入的原始图像数据，大小为1*28*28\n",
    "image = fluid.layers.data(name='image', shape=[1, 28, 28], dtype='float32')#单通道，28*28像素值\n",
    "# 标签，名称为label,对应输入图片的类别标签\n",
    "label = fluid.layers.data(name='label', shape=[1], dtype='int64')          #图片标签"
   ]
  },
  {
   "cell_type": "code",
   "execution_count": 9,
   "metadata": {
    "collapsed": false
   },
   "outputs": [],
   "source": [
    "# 获取分类器\n",
    "predict = multilayer_perceptron(image)"
   ]
  },
  {
   "cell_type": "code",
   "execution_count": 10,
   "metadata": {
    "collapsed": false
   },
   "outputs": [],
   "source": [
    "#使用交叉熵损失函数,描述真实样本标签和预测概率之间的差值\n",
    "cost = fluid.layers.cross_entropy(input=predict, label=label)  \n",
    "# 使用类交叉熵函数计算predict和label之间的损失函数\n",
    "avg_cost = fluid.layers.mean(cost)\n",
    "# 计算分类准确率\n",
    "acc = fluid.layers.accuracy(input=predict, label=label)"
   ]
  },
  {
   "cell_type": "code",
   "execution_count": 11,
   "metadata": {
    "collapsed": false
   },
   "outputs": [],
   "source": [
    " #使用Adam算法进行优化, learning_rate 是学习率(它的大小与网络的训练收敛速度有关系)\n",
    "# optimizer = fluid.optimizer.AdamOptimizer(learning_rate=0.0001)\n",
    "# optimizer = paddle.fluid.optimizer.Adadelta(0.0001) # 使用Adadelta优化器\n",
    "# optimizer = paddle.fluid.optimizer.Momentum(0.0001, 0.9) # 使用Momentum优化器\n",
    "optimizer = fluid.optimizer.RMSProp(0.0001) #使用RMSProp优化器\n",
    "\n",
    "\n",
    "opts = optimizer.minimize(avg_cost)"
   ]
  },
  {
   "cell_type": "code",
   "execution_count": 12,
   "metadata": {
    "collapsed": false
   },
   "outputs": [
    {
     "name": "stderr",
     "output_type": "stream",
     "text": [
      "W0108 15:03:54.861925    98 device_context.cc:252] Please NOTE: device: 0, CUDA Capability: 70, Driver API Version: 11.2, Runtime API Version: 9.0\n",
      "W0108 15:03:54.866596    98 device_context.cc:260] device: 0, cuDNN Version: 7.6.\n"
     ]
    },
    {
     "data": {
      "text/plain": [
       "[]"
      ]
     },
     "execution_count": 12,
     "metadata": {},
     "output_type": "execute_result"
    }
   ],
   "source": [
    "# 定义使用CPU还是GPU，使用CPU时use_cuda = False,使用GPU时use_cuda = True\n",
    "use_cuda = True\n",
    "place = fluid.CUDAPlace(0) if use_cuda else fluid.CPUPlace()\n",
    "# 获取测试程序\n",
    "test_program = fluid.default_main_program().clone(for_test=True)\n",
    "exe = fluid.Executor(place)\n",
    "exe.run(fluid.default_startup_program())"
   ]
  },
  {
   "cell_type": "markdown",
   "metadata": {
    "collapsed": false
   },
   "source": [
    "（2）告知网络传入的数据分为两部分，第一部分是image值，第二部分是label值\n",
    "\n",
    "DataFeeder负责将数据提供器（train_reader,test_reader）返回的数据转成一种特殊的数据结构，使其可以输入到Executor中。"
   ]
  },
  {
   "cell_type": "code",
   "execution_count": 13,
   "metadata": {
    "collapsed": false
   },
   "outputs": [],
   "source": [
    "\n",
    "feeder = fluid.DataFeeder(place=place, feed_list=[image, label])"
   ]
  },
  {
   "cell_type": "markdown",
   "metadata": {
    "collapsed": false
   },
   "source": [
    "(3)展示模型训练曲线"
   ]
  },
  {
   "cell_type": "code",
   "execution_count": 14,
   "metadata": {
    "collapsed": false
   },
   "outputs": [],
   "source": [
    "all_train_iter=0\n",
    "all_train_iters=[]\n",
    "all_train_costs=[]\n",
    "all_train_accs=[]\n",
    "\n",
    "def draw_train_process(title,iters,costs,accs,label_cost,lable_acc):\n",
    "    plt.title(title, fontsize=24)\n",
    "    plt.xlabel(\"iter\", fontsize=20)\n",
    "    plt.ylabel(\"cost/acc\", fontsize=20)\n",
    "    plt.plot(iters, costs,color='red',label=label_cost) \n",
    "    plt.plot(iters, accs,color='green',label=lable_acc) \n",
    "    plt.legend()\n",
    "    plt.grid()\n",
    "    plt.show()"
   ]
  },
  {
   "cell_type": "code",
   "execution_count": 15,
   "metadata": {
    "collapsed": false
   },
   "outputs": [
    {
     "name": "stdout",
     "output_type": "stream",
     "text": [
      "Pass:0, Batch:0, Cost:3.99843, Accuracy:0.09375\n",
      "Pass:0, Batch:200, Cost:0.79150, Accuracy:0.76562\n",
      "Pass:0, Batch:400, Cost:0.27912, Accuracy:0.92188\n",
      "Pass:0, Batch:600, Cost:0.26049, Accuracy:0.92969\n",
      "Test:0, Cost:0.17168, Accuracy:0.94755\n",
      "Pass:1, Batch:0, Cost:0.19578, Accuracy:0.96875\n",
      "Pass:1, Batch:200, Cost:0.14359, Accuracy:0.96094\n",
      "Pass:1, Batch:400, Cost:0.09261, Accuracy:0.97656\n",
      "Pass:1, Batch:600, Cost:0.09963, Accuracy:0.97656\n",
      "Test:1, Cost:0.10320, Accuracy:0.96771\n",
      "Pass:2, Batch:0, Cost:0.16212, Accuracy:0.96094\n",
      "Pass:2, Batch:200, Cost:0.14418, Accuracy:0.97656\n",
      "Pass:2, Batch:400, Cost:0.05961, Accuracy:0.97656\n",
      "Pass:2, Batch:600, Cost:0.07147, Accuracy:0.96875\n",
      "Test:2, Cost:0.08182, Accuracy:0.97417\n",
      "Pass:3, Batch:0, Cost:0.07147, Accuracy:0.99219\n",
      "Pass:3, Batch:200, Cost:0.12689, Accuracy:0.97656\n",
      "Pass:3, Batch:400, Cost:0.04627, Accuracy:0.99219\n",
      "Pass:3, Batch:600, Cost:0.07892, Accuracy:0.96094\n",
      "Test:3, Cost:0.07062, Accuracy:0.97791\n",
      "Pass:4, Batch:0, Cost:0.03638, Accuracy:0.98438\n",
      "Pass:4, Batch:200, Cost:0.05094, Accuracy:0.99219\n",
      "Pass:4, Batch:400, Cost:0.04678, Accuracy:0.98438\n",
      "Pass:4, Batch:600, Cost:0.03497, Accuracy:0.98438\n",
      "Test:4, Cost:0.06383, Accuracy:0.97980\n",
      "Pass:5, Batch:0, Cost:0.07814, Accuracy:0.97656\n",
      "Pass:5, Batch:200, Cost:0.05013, Accuracy:0.97656\n",
      "Pass:5, Batch:400, Cost:0.03883, Accuracy:0.98438\n",
      "Pass:5, Batch:600, Cost:0.03599, Accuracy:0.99219\n",
      "Test:5, Cost:0.05885, Accuracy:0.98144\n",
      "Pass:6, Batch:0, Cost:0.04878, Accuracy:0.97656\n",
      "Pass:6, Batch:200, Cost:0.06425, Accuracy:0.98438\n",
      "Pass:6, Batch:400, Cost:0.01726, Accuracy:1.00000\n",
      "Pass:6, Batch:600, Cost:0.07729, Accuracy:0.97656\n",
      "Test:6, Cost:0.05545, Accuracy:0.98199\n",
      "Pass:7, Batch:0, Cost:0.06115, Accuracy:0.98438\n",
      "Pass:7, Batch:200, Cost:0.11224, Accuracy:0.97656\n",
      "Pass:7, Batch:400, Cost:0.03049, Accuracy:1.00000\n",
      "Pass:7, Batch:600, Cost:0.02920, Accuracy:0.99219\n",
      "Test:7, Cost:0.05248, Accuracy:0.98273\n",
      "Pass:8, Batch:0, Cost:0.01349, Accuracy:1.00000\n",
      "Pass:8, Batch:200, Cost:0.07187, Accuracy:0.98438\n",
      "Pass:8, Batch:400, Cost:0.02501, Accuracy:0.99219\n",
      "Pass:8, Batch:600, Cost:0.01129, Accuracy:1.00000\n",
      "Test:8, Cost:0.05068, Accuracy:0.98318\n",
      "Pass:9, Batch:0, Cost:0.02788, Accuracy:0.99219\n",
      "Pass:9, Batch:200, Cost:0.03757, Accuracy:0.99219\n",
      "Pass:9, Batch:400, Cost:0.02570, Accuracy:1.00000\n",
      "Pass:9, Batch:600, Cost:0.06324, Accuracy:0.98438\n",
      "Test:9, Cost:0.04891, Accuracy:0.98358\n",
      "save models to /home/aistudio/work/hand.inference.model\n",
      "训练模型保存完成！\n"
     ]
    },
    {
     "data": {
      "image/png": "[encoded data removed]",
      "text/plain": [
       "<Figure size 640x480 with 1 Axes>"
      ]
     },
     "metadata": {},
     "output_type": "display_data"
    }
   ],
   "source": [
    "EPOCH_NUM=10\n",
    "BATCH_SIZE=128\n",
    "model_save_dir = \"/home/aistudio/work/hand.inference.model\"\n",
    "for pass_id in range(EPOCH_NUM):\n",
    "    # 进行训练\n",
    "    for batch_id, data in enumerate(train_reader()):                         #遍历train_reader\n",
    "        train_cost, train_acc = exe.run(program=fluid.default_main_program(),#运行主程序\n",
    "                                        feed=feeder.feed(data),              #给模型喂入数据\n",
    "                                        fetch_list=[avg_cost, acc])          #fetch 误差、准确率  \n",
    "        \n",
    "        all_train_iter=all_train_iter+BATCH_SIZE\n",
    "        all_train_iters.append(all_train_iter)\n",
    "        \n",
    "        all_train_costs.append(train_cost[0])\n",
    "        all_train_accs.append(train_acc[0])\n",
    "        \n",
    "        # 每200个batch打印一次信息  误差、准确率\n",
    "        if batch_id % 200 == 0:\n",
    "            print('Pass:%d, Batch:%d, Cost:%0.5f, Accuracy:%0.5f' %\n",
    "                  (pass_id, batch_id, train_cost[0], train_acc[0]))\n",
    "\n",
    "    # 进行测试\n",
    "    test_accs = []\n",
    "    test_costs = []\n",
    "    #每训练一轮 进行一次测试\n",
    "    for batch_id, data in enumerate(test_reader()):                         #遍历test_reader\n",
    "        test_cost, test_acc = exe.run(program=test_program, #执行训练程序\n",
    "                                      feed=feeder.feed(data),               #喂入数据\n",
    "                                      fetch_list=[avg_cost, acc])           #fetch 误差、准确率\n",
    "        test_accs.append(test_acc[0])                                       #每个batch的准确率\n",
    "        test_costs.append(test_cost[0])                                     #每个batch的误差\n",
    "        \n",
    "       \n",
    "    # 求测试结果的平均值\n",
    "    test_cost = (sum(test_costs) / len(test_costs))                         #每轮的平均误差\n",
    "    test_acc = (sum(test_accs) / len(test_accs))                            #每轮的平均准确率\n",
    "    print('Test:%d, Cost:%0.5f, Accuracy:%0.5f' % (pass_id, test_cost, test_acc))\n",
    "    \n",
    "    #保存模型\n",
    "    # 如果保存路径不存在就创建\n",
    "if not os.path.exists(model_save_dir):\n",
    "    os.makedirs(model_save_dir)\n",
    "print ('save models to %s' % (model_save_dir))\n",
    "fluid.io.save_inference_model(model_save_dir,   #保存推理model的路径\n",
    "                                  ['image'],    #推理（inference）需要 feed 的数据\n",
    "                                  [predict],    #保存推理（inference）结果的 Variables\n",
    "                                  exe)             #executor 保存 inference model\n",
    "\n",
    "print('训练模型保存完成！')\n",
    "draw_train_process(\"training\",all_train_iters,all_train_costs,all_train_accs,\"trainning cost\",\"trainning acc\")"
   ]
  },
  {
   "cell_type": "markdown",
   "metadata": {
    "collapsed": false
   },
   "source": [
    "（1）图片预处理\n",
    "\n",
    "在预测之前，要对图像进行预处理。\n",
    "\n",
    "首先进行灰度化，然后压缩图像大小为28*28，接着将图像转换成一维向量，最后再对一维向量进行归一化处理。"
   ]
  },
  {
   "cell_type": "code",
   "execution_count": 16,
   "metadata": {
    "collapsed": false
   },
   "outputs": [],
   "source": [
    "def load_image(file):\n",
    "    im = Image.open(file).convert('L')                        #将RGB转化为灰度图像，L代表灰度图像，像素值在0~255之间\n",
    "    im = im.resize((28, 28), Image.ANTIALIAS)                 #resize image with high-quality 图像大小为28*28\n",
    "    im = np.array(im).reshape(1, 1, 28, 28).astype(np.float32)#返回新形状的数组,把它变成一个 numpy 数组以匹配数据馈送格式。\n",
    "    # print(im)\n",
    "    im = im / 255.0 * 2.0 - 1.0                               #归一化到【-1~1】之间\n",
    "    return im\n"
   ]
  },
  {
   "cell_type": "code",
   "execution_count": 17,
   "metadata": {
    "collapsed": false
   },
   "outputs": [
    {
     "data": {
      "image/png": "[encoded data removed]",
      "text/plain": [
       "<Figure size 640x480 with 1 Axes>"
      ]
     },
     "metadata": {},
     "output_type": "display_data"
    }
   ],
   "source": [
    "infer_path='/home/aistudio/work/5.png'\n",
    "img = Image.open(infer_path)\n",
    "plt.imshow(img)   #根据数组绘制图像\n",
    "plt.show()        #显示图像"
   ]
  },
  {
   "cell_type": "markdown",
   "metadata": {
    "collapsed": false
   },
   "source": [
    "创建Executer"
   ]
  },
  {
   "cell_type": "code",
   "execution_count": 18,
   "metadata": {
    "collapsed": false
   },
   "outputs": [],
   "source": [
    "infer_exe = fluid.Executor(place)\n",
    "inference_scope = fluid.core.Scope()"
   ]
  },
  {
   "cell_type": "markdown",
   "metadata": {
    "collapsed": false
   },
   "source": [
    "(4)开始预测\n",
    "\n",
    "通过fluid.io.load_inference_model，预测器会从params_dirname中读取已经训练好的模型，来对从未遇见过的数据进行预测。"
   ]
  },
  {
   "cell_type": "code",
   "execution_count": 19,
   "metadata": {
    "collapsed": false
   },
   "outputs": [
    {
     "data": {
      "image/png": "[encoded data removed]",
      "text/plain": [
       "<Figure size 640x480 with 1 Axes>"
      ]
     },
     "metadata": {},
     "output_type": "display_data"
    },
    {
     "name": "stdout",
     "output_type": "stream",
     "text": [
      "该图片的预测结果的label为: 5\n"
     ]
    }
   ],
   "source": [
    "# 加载数据并开始预测\n",
    "plt.imshow(img)   #根据数组绘制图像\n",
    "plt.show()        #显示图像\n",
    "with fluid.scope_guard(inference_scope):\n",
    "    #获取训练好的模型\n",
    "    #从指定目录中加载 推理model(inference model)\n",
    "    [inference_program,                                            #推理Program\n",
    "     feed_target_names,                                            #是一个str列表，它包含需要在推理 Program 中提供数据的变量的名称。 \n",
    "     fetch_targets] = fluid.io.load_inference_model(model_save_dir,#fetch_targets：是一个 Variable 列表，从中我们可以得到推断结果。model_save_dir：模型保存的路径\n",
    "                                                    infer_exe)     #infer_exe: 运行 inference model的 executor\n",
    "    \n",
    "    img = load_image(infer_path)\n",
    "\n",
    "    results = infer_exe.run(program=inference_program,               #运行推测程序\n",
    "                   feed={feed_target_names[0]: img},           #喂入要预测的img\n",
    "                   fetch_list=fetch_targets)                   #得到推测结果,  \n",
    "    # 获取概率最大的label\n",
    "    lab = np.argsort(results)                                  #argsort函数返回的是result数组值从小到大的索引值\n",
    "    \n",
    "    print(\"该图片的预测结果的label为: %d\" % lab[0][0][-1])     #-1代表读取数组中倒数第一列  "
   ]
  },
  {
   "cell_type": "markdown",
   "metadata": {
    "collapsed": false
   },
   "source": [
    "请点击[此处](https://ai.baidu.com/docs#/AIStudio_Project_Notebook/a38e5576)查看本环境基本用法.  <br>\n",
    "Please click [here ](https://ai.baidu.com/docs#/AIStudio_Project_Notebook/a38e5576) for more detailed instructions. "
   ]
  }
 ],
 "metadata": {
  "kernelspec": {
   "display_name": "Python 3",
   "language": "python",
   "name": "py35-paddle1.2.0"
  },
  "language_info": {
   "codemirror_mode": {
    "name": "ipython",
    "version": 3
   },
   "file_extension": ".py",
   "mimetype": "text/x-python",
   "name": "python",
   "nbconvert_exporter": "python",
   "pygments_lexer": "ipython3",
   "version": "3.7.4"
  }
 },
 "nbformat": 4,
 "nbformat_minor": 1
}
